{
 "cells": [
  {
   "cell_type": "code",
   "execution_count": 2,
   "metadata": {},
   "outputs": [
    {
     "name": "stderr",
     "output_type": "stream",
     "text": [
      "You are attempting to use Flash Attention 2.0 with a model not initialized on GPU. Make sure to move the model to GPU after initializing it on CPU with `model.to('cuda')`.\n"
     ]
    },
    {
     "name": "stderr",
     "output_type": "stream",
     "text": [
      "Special tokens have been added in the vocabulary, make sure the associated word embeddings are fine-tuned or trained.\n",
      "Special tokens have been added in the vocabulary, make sure the associated word embeddings are fine-tuned or trained.\n"
     ]
    }
   ],
   "source": [
    "import torch\n",
    "import transformers\n",
    "model_name_or_path = 'checkpoints/tinyllama_caption2instruct_ft'\n",
    "model = transformers.LlamaForCausalLM.from_pretrained(\n",
    "        model_name_or_path,\n",
    "        attn_implementation='flash_attention_2',\n",
    "        torch_dtype=torch.bfloat16,\n",
    "    ).cuda()\n",
    "tokenizer = transformers.AutoTokenizer.from_pretrained(model_name_or_path)"
   ]
  },
  {
   "cell_type": "code",
   "execution_count": 11,
   "metadata": {},
   "outputs": [],
   "source": [
    "from instruct_tri2tri.tinyllama_ft.conversation import conv_llama_2\n",
    "conv = conv_llama_2.copy()\n",
    "roles = conv_llama_2.roles\n",
    "inp = '3D rendering of a white sofa with wooden legs and frame.'\n",
    "conv.append_message(conv_llama_2.roles[0], inp)\n",
    "conv.append_message(conv_llama_2.roles[1], None)\n",
    "prompt = conv.get_prompt()\n",
    "inputs = tokenizer(prompt, return_tensors='pt')\n",
    "for key, value in inputs.items():\n",
    "    inputs[key] = value.cuda()"
   ]
  },
  {
   "cell_type": "code",
   "execution_count": 2,
   "metadata": {},
   "outputs": [],
   "source": [
    "import json\n",
    "\n",
    "j = json.load(open('data/objaverse/cap3d_automated_objaverse_highquality_550k.json'))"
   ]
  },
  {
   "cell_type": "code",
   "execution_count": 3,
   "metadata": {},
   "outputs": [
    {
     "data": {
      "text/plain": [
       "{'id': '53d0b31aa7f84bc4b1733224963d0114',\n",
       " 'image': 'objaverse/Cap3D_imgs_view0/53d0b31aa7f84bc4b1733224963d0114',\n",
       " 'conversations': [{'from': 'human',\n",
       "   'value': '<triplane>\\nDescribe the 3D model concisely.'},\n",
       "  {'from': 'gpt',\n",
       "   'value': '3D rendering of a white sofa with wooden legs and frame.'}]}"
      ]
     },
     "execution_count": 3,
     "metadata": {},
     "output_type": "execute_result"
    }
   ],
   "source": [
    "j[0]"
   ]
  },
  {
   "cell_type": "code",
   "execution_count": 18,
   "metadata": {},
   "outputs": [],
   "source": [
    "output = model.generate(**inputs)\n",
    "# tokenizer.decode(output[0], special_tokens=True)"
   ]
  },
  {
   "cell_type": "code",
   "execution_count": 24,
   "metadata": {},
   "outputs": [
    {
     "data": {
      "text/plain": [
       "'make the sofa a brown leather sofa'"
      ]
     },
     "execution_count": 24,
     "metadata": {},
     "output_type": "execute_result"
    }
   ],
   "source": [
    "tokenizer.decode(output[0, inputs.input_ids.shape[1]:], skip_special_tokens=True).strip()"
   ]
  },
  {
   "cell_type": "code",
   "execution_count": 5,
   "metadata": {},
   "outputs": [
    {
     "data": {
      "text/plain": [
       "[{'image': 'objaverse/Cap3D_imgs_view0/53d0b31aa7f84bc4b1733224963d0114',\n",
       "  'caption': '3D rendering of a white sofa with wooden legs and frame.',\n",
       "  'instruct': 'make the sofa a leather sofa'},\n",
       " {'image': 'objaverse/Cap3D_imgs_view0/25f25e35aada40e49194657fd51c1199',\n",
       "  'caption': '3D model of a wooden fence with posts and gate, featuring a sand base.',\n",
       "  'instruct': 'make the fence made of metal'},\n",
       " {'image': 'objaverse/Cap3D_imgs_view0/9ff331513cea44a2938d09a03d7b0493',\n",
       "  'caption': 'White plastic cylinder resembling a toilet paper holder.',\n",
       "  'instruct': 'make it a toilet paper holder made of gold'},\n",
       " {'image': 'objaverse/Cap3D_imgs_view0/f78e38ccea1d45dcaefe1970e7df4035',\n",
       "  'caption': '3D model of a forklift truck with a trailer.',\n",
       "  'instruct': 'make the truck a tank'},\n",
       " {'image': 'objaverse/Cap3D_imgs_view0/112c059282cf4511a01fd27211edcae8',\n",
       "  'caption': 'A 3D model of a wooden table and bench.',\n",
       "  'instruct': 'make it a wooden table and bench made of marble'},\n",
       " {'image': 'objaverse/Cap3D_imgs_view0/77031e12fc7f49c09530addc5c7c1cd3',\n",
       "  'caption': 'A black and white Lego ninja with a bird on his shoulder, holding a sword.',\n",
       "  'instruct': 'make the bird a parrot'},\n",
       " {'image': 'objaverse/Cap3D_imgs_view0/d06cca5175434a83b3944bcfad47c464',\n",
       "  'caption': 'A 3D rendering of a small table with stairs, glass top, and shelf in a room.',\n",
       "  'instruct': 'make the table a coffee table'},\n",
       " {'image': 'objaverse/Cap3D_imgs_view0/037306d9dd4e4a3cbe14d127cfe26fb5',\n",
       "  'caption': 'A 3D model of a small white building with tables, chairs, and a light inside, featuring a lid and beige accents.',\n",
       "  'instruct': 'make the building a castle'},\n",
       " {'image': 'objaverse/Cap3D_imgs_view0/995f110c17cc49b5be4c90ea5028fb1d',\n",
       "  'caption': 'A 3D white paper airplane model',\n",
       "  'instruct': 'make it a helicopter'},\n",
       " {'image': 'objaverse/Cap3D_imgs_view0/24a550a5d6e54402809a75eb8654230e',\n",
       "  'caption': 'A 3D model of a small brick building with a blue roof and green and white walls.',\n",
       "  'instruct': 'make it a castle'}]"
      ]
     },
     "execution_count": 5,
     "metadata": {},
     "output_type": "execute_result"
    }
   ],
   "source": [
    "import json \n",
    "json.load(open('data/objaverse/cap3d_automated_objaverse_highquality_instruct_550k_0_4.json'))"
   ]
  },
  {
   "cell_type": "code",
   "execution_count": null,
   "metadata": {},
   "outputs": [],
   "source": []
  }
 ],
 "metadata": {
  "kernelspec": {
   "display_name": "langsplat",
   "language": "python",
   "name": "python3"
  },
  "language_info": {
   "codemirror_mode": {
    "name": "ipython",
    "version": 3
   },
   "file_extension": ".py",
   "mimetype": "text/x-python",
   "name": "python",
   "nbconvert_exporter": "python",
   "pygments_lexer": "ipython3",
   "version": "3.9.18"
  }
 },
 "nbformat": 4,
 "nbformat_minor": 2
}
