{
 "cells": [
  {
   "cell_type": "code",
   "execution_count": 5,
   "metadata": {},
   "outputs": [
    {
     "name": "stdout",
     "output_type": "stream",
     "text": [
      "loading from data/instrct_tri2tri/gpt-generated-prompts.jsonl, there are 452148 samples\n"
     ]
    },
    {
     "data": {
      "text/plain": [
       "{'input': '\"Dreama Tolle Perry » Artist and Writer » \"\"Tuscany Outside My Door\"\"\"',\n",
       " 'edit': 'Move the Tuscany to a different location',\n",
       " 'output': '\"Dreama Tolle Perry » Artist and Writer » \"\"Tuscany in Alaska Outside My Door\"\"\"',\n",
       " 'url': 'https://i.pinimg.com/236x/d4/7d/4a/d47d4a43aeedae07fdac54f72e28cc71--flower-paintings-art-paintings.jpg'}"
      ]
     },
     "execution_count": 5,
     "metadata": {},
     "output_type": "execute_result"
    }
   ],
   "source": [
    "from instruct_tri2tri.tinyllama_ft.train.finetune import read_jsonl\n",
    "from tqdm import tqdm\n",
    "import json\n",
    "meta_datas = read_jsonl('data/instrct_tri2tri/gpt-generated-prompts.jsonl')\n",
    "meta_datas[0]"
   ]
  },
  {
   "cell_type": "code",
   "execution_count": 6,
   "metadata": {},
   "outputs": [
    {
     "name": "stderr",
     "output_type": "stream",
     "text": [
      "100%|██████████| 452148/452148 [00:02<00:00, 211008.86it/s]\n"
     ]
    }
   ],
   "source": [
    "target_datas = []\n",
    "for data in tqdm(meta_datas):\n",
    "    tmp_dict = {}\n",
    "    conversations = []\n",
    "    conversations.append({'from': 'human', 'value': data['input']})\n",
    "    conversations.append({'from': 'gpt', 'value': data['edit']})\n",
    "    tmp_dict['conversations'] = conversations\n",
    "    target_datas.append(tmp_dict)"
   ]
  },
  {
   "cell_type": "code",
   "execution_count": 9,
   "metadata": {},
   "outputs": [
    {
     "data": {
      "text/plain": [
       "{'conversations': [{'from': 'human',\n",
       "   'value': 'Medieval village of Montefioralle in Tuscany, Italy'},\n",
       "  {'from': 'gpt', 'value': 'make it look like a Nintendogs game'}]}"
      ]
     },
     "execution_count": 9,
     "metadata": {},
     "output_type": "execute_result"
    }
   ],
   "source": [
    "target_datas[1]"
   ]
  },
  {
   "cell_type": "code",
   "execution_count": 8,
   "metadata": {},
   "outputs": [],
   "source": [
    "with open('data/instrct_tri2tri/gpt-generated-prompts-450k.json', 'w') as f:\n",
    "    json.dump(target_datas, f)"
   ]
  },
  {
   "cell_type": "code",
   "execution_count": null,
   "metadata": {},
   "outputs": [],
   "source": []
  }
 ],
 "metadata": {
  "kernelspec": {
   "display_name": "langsplat",
   "language": "python",
   "name": "python3"
  },
  "language_info": {
   "codemirror_mode": {
    "name": "ipython",
    "version": 3
   },
   "file_extension": ".py",
   "mimetype": "text/x-python",
   "name": "python",
   "nbconvert_exporter": "python",
   "pygments_lexer": "ipython3",
   "version": "3.9.18"
  }
 },
 "nbformat": 4,
 "nbformat_minor": 2
}
